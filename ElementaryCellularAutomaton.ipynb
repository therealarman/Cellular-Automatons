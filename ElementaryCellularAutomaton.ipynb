{
  "nbformat": 4,
  "nbformat_minor": 0,
  "metadata": {
    "colab": {
      "provenance": [],
      "authorship_tag": "ABX9TyMaIspduXu4UHZAu8iDtSj1",
      "include_colab_link": true
    },
    "kernelspec": {
      "name": "python3",
      "display_name": "Python 3"
    },
    "language_info": {
      "name": "python"
    }
  },
  "cells": [
    {
      "cell_type": "markdown",
      "metadata": {
        "id": "view-in-github",
        "colab_type": "text"
      },
      "source": [
        "<a href=\"https://colab.research.google.com/github/therealarman/Cellular-Automatons/blob/main/ElementaryCellularAutomaton.ipynb\" target=\"_parent\"><img src=\"https://colab.research.google.com/assets/colab-badge.svg\" alt=\"Open In Colab\"/></a>"
      ]
    },
    {
      "cell_type": "markdown",
      "source": [
        "## This notebook contains a basic implementation of the [Wolfram Elementary Cellular Automaton](https://mathworld.wolfram.com/ElementaryCellularAutomaton.html)."
      ],
      "metadata": {
        "id": "oquI5VLnTccO"
      }
    },
    {
      "cell_type": "code",
      "source": [
        "import numpy as np\n",
        "from matplotlib import animation\n",
        "from matplotlib import pyplot as plt\n",
        "from IPython.display import HTML\n",
        "%matplotlib inline"
      ],
      "metadata": {
        "id": "ZX53edmdOG7_"
      },
      "execution_count": 21,
      "outputs": []
    },
    {
      "cell_type": "code",
      "source": [
        "def gridFromSteps(step):\n",
        "  grid = [0] * (2*step+1)\n",
        "  grid[int((len(grid)/2))] = 1\n",
        "\n",
        "  return grid"
      ],
      "metadata": {
        "id": "lgf18f5VDGVj"
      },
      "execution_count": 22,
      "outputs": []
    },
    {
      "cell_type": "code",
      "source": [
        "def printGrid(grid):\n",
        "  for i in range(len(grid)):\n",
        "    print(grid[i])"
      ],
      "metadata": {
        "id": "cAPPXkMn8ngX"
      },
      "execution_count": 23,
      "outputs": []
    },
    {
      "cell_type": "code",
      "source": [
        "def CellularAutomaton(steps, grid):\n",
        "\n",
        "  for i in range(steps):\n",
        "    _g = grid[-1]\n",
        "    f = [_g[0]]\n",
        "    e = [_g[-1]]\n",
        "\n",
        "    adjusted_g = (e + _g + f)\n",
        "\n",
        "    nextLayer = []\n",
        "\n",
        "    for i in range(len(adjusted_g)-2):\n",
        "      patch = (adjusted_g[i], adjusted_g[i+1], adjusted_g[i+2])\n",
        "      nextLayer.append(rules[patch])\n",
        "\n",
        "    grid.append(nextLayer)"
      ],
      "metadata": {
        "id": "EmxJafUzwfJz"
      },
      "execution_count": 24,
      "outputs": []
    },
    {
      "cell_type": "code",
      "execution_count": 25,
      "metadata": {
        "id": "4ihQi15cJWn_"
      },
      "outputs": [],
      "source": [
        "rules = {\n",
        "    (1,1,1) : 1,\n",
        "    (1,1,0) : 0,\n",
        "    (1,0,1) : 1,\n",
        "    (1,0,0) : 0,\n",
        "    (0,1,1) : 0,\n",
        "    (0,1,0) : 1,\n",
        "    (0,0,1) : 0,\n",
        "    (0,0,0) : 1\n",
        "}"
      ]
    },
    {
      "cell_type": "code",
      "source": [
        "step = 80\n",
        "\n",
        "grid = [gridFromSteps(step)]\n",
        "grid\n",
        "CellularAutomaton(step, grid)\n",
        "\n",
        "fig, ax = plt.subplots(figsize=(10, 10))\n",
        "plt.imshow(grid, cmap='Greys',  interpolation='nearest')\n",
        "plt.axis('off')"
      ],
      "metadata": {
        "colab": {
          "base_uri": "https://localhost:8080/",
          "height": 443
        },
        "id": "Q8in3ELM75Vw",
        "outputId": "32af8687-5a82-47df-e10f-4703cfb3bcc0"
      },
      "execution_count": 26,
      "outputs": [
        {
          "output_type": "execute_result",
          "data": {
            "text/plain": [
              "(-0.5, 160.5, 80.5, -0.5)"
            ]
          },
          "metadata": {},
          "execution_count": 26
        },
        {
          "output_type": "display_data",
          "data": {
            "text/plain": [
              "<Figure size 1000x1000 with 1 Axes>"
            ],
            "image/png": "[encoded data removed]"
          },
          "metadata": {}
        }
      ]
    }
  ]
}